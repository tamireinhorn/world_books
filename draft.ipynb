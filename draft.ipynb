{
 "cells": [
  {
   "cell_type": "code",
   "execution_count": 4,
   "metadata": {},
   "outputs": [],
   "source": [
    "URL = \"https://www.goodreads.com/review/list/71341746?ref=nav_mybooks&shelf=read\"\n",
    "\n",
    "\n",
    "import requests\n",
    "from bs4 import BeautifulSoup\n",
    "\n",
    "response = requests.get(URL)\n",
    "soup = BeautifulSoup(response.content, \"html.parser\")\n"
   ]
  },
  {
   "cell_type": "code",
   "execution_count": 12,
   "metadata": {},
   "outputs": [],
   "source": [
    "table = soup.find('table', id='books')\n",
    "tbody = table.find('tbody', id='booksBody')\n"
   ]
  },
  {
   "cell_type": "code",
   "execution_count": 19,
   "metadata": {},
   "outputs": [
    {
     "name": "stdout",
     "output_type": "stream",
     "text": [
      "Tempo de Migrar para o Norte\n",
      "Menina Icaro (Em Portugues do Brasil)\n",
      "O Fazedor de Velhos\n",
      "O Guarani\n",
      "Os Sertões - Volume II\n",
      "Os Sertões - Volume I\n",
      "Cien años de soledad\n",
      "A história das aventuras de Joseph Andrews e seu amigo o Senhor Abraham Adams\n",
      "Poder camuflado: Os militares e a política, do fim da ditadura à aliança com Bolsonaro (Portuguese Edition)\n",
      "Ingenious Pain : A Novel\n",
      "Condenados à vida\n",
      "O Filho Eterno\n",
      "La Fiesta del Chivo\n",
      "Pauline un drame familial : Codéine tous concernés\n",
      "The Dragons of Eden: Speculations on the Evolution of Human Intelligence\n",
      "Ne t'enfuis plus\n",
      "Les belles images\n",
      "Dia de finados\n",
      "O fim do homem soviético\n",
      "Foreskin's Lament\n",
      "A Visita Cruel do Tempo\n",
      "Livro do Desassossego\n",
      "Dom Quixote\n",
      "A Consciência de Zeno\n",
      "Torto Arado\n",
      "Start-up Nation: The Story of Israel's Economic Miracle\n",
      "Les Misérables\n",
      "As Ondas\n",
      "The Underground Railroad\n",
      "Iracema\n"
     ]
    }
   ],
   "source": [
    "entries = tbody.find_all('tr', class_='bookalike review')\n",
    "\n",
    "for entry in entries:\n",
    "    td_field_title = entry.find('td', class_='field title')\n",
    "    if td_field_title:\n",
    "        anchor_tag = td_field_title.find('a')\n",
    "        if anchor_tag and 'title' in anchor_tag.attrs:\n",
    "            book_title = anchor_tag['title']\n",
    "            print(book_title)  # Or store, process, etc.\n"
   ]
  }
 ],
 "metadata": {
  "kernelspec": {
   "display_name": "world-books-7XWJ2MVl-py3.10",
   "language": "python",
   "name": "python3"
  },
  "language_info": {
   "codemirror_mode": {
    "name": "ipython",
    "version": 3
   },
   "file_extension": ".py",
   "mimetype": "text/x-python",
   "name": "python",
   "nbconvert_exporter": "python",
   "pygments_lexer": "ipython3",
   "version": "3.10.12"
  },
  "orig_nbformat": 4
 },
 "nbformat": 4,
 "nbformat_minor": 2
}
